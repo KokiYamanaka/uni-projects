{
  "nbformat": 4,
  "nbformat_minor": 0,
  "metadata": {
    "colab": {
      "provenance": [],
      "toc_visible": true
    },
    "kernelspec": {
      "name": "python3",
      "display_name": "Python 3"
    },
    "language_info": {
      "name": "python"
    }
  },
  "cells": [
    {
      "cell_type": "markdown",
      "source": [
        "# Triangle class"
      ],
      "metadata": {
        "id": "_kagQ5oSsu1S"
      }
    },
    {
      "cell_type": "code",
      "execution_count": null,
      "metadata": {
        "id": "-61AdFOZTBwC"
      },
      "outputs": [],
      "source": [
        "import random\n",
        "\n",
        "class Triangle: \n",
        "    def __init__(self, canvas_width, canvas_height):\n",
        "        # Initialize random location of triangle  \n",
        "        random_x = random.randint(0, int(canvas_width))\n",
        "        random_y = random.randint(0, int(canvas_height))\n",
        "\n",
        "        # Initialize triangle's 3 random points  \n",
        "        self.points = [\n",
        "            (random_x + random.randint(-50, 50), random_y + random.randint(-50, 50)),\n",
        "            (random_x + random.randint(-50, 50), random_y + random.randint(-50, 50)),\n",
        "            (random_x + random.randint(-50, 50), random_y + random.randint(-50, 50))\n",
        "        ]\n",
        "\n",
        "        # Initialize random color of triangle\n",
        "        self.color = (\n",
        "            random.randint(0, 255),\n",
        "            random.randint(0, 255),\n",
        "            random.randint(0, 255),\n",
        "            random.randint(0, 255)\n",
        "        )\n",
        "      \n",
        "        # Store canvas size for internal use\n",
        "        self._canvas_width = canvas_width\n",
        "        self._canvas_height = canvas_height\n",
        "\n",
        "    def __str__(self):\n",
        "        return f\"Triangle: {self.points} in color {self.color}\"\n",
        "\n",
        "    def get_properties_triangle(self):\n",
        "        return self.points, self.color\n",
        "\n",
        "    def show_properties_triangle(self):\n",
        "        points_str = ', '.join([f\"({x},{y})\" for x, y in self.points])\n",
        "        color_str = ', '.join([f\"{c}\" for c in self.color])\n",
        "        return f\"Triangle with points: {points_str} and color: {color_str}\"\n",
        "\n",
        "    def mutate(self, mutation_rate=1.0):\n",
        "        # Possible mutations on triangle object\n",
        "        mutations_type = ['shift', 'point', 'color']\n",
        "\n",
        "        # How likely to choose each type of mutation \n",
        "        probability_mutate = [30, 35, 30]\n",
        "\n",
        "        # Choose a mutation type from \"mutations_type\" list\n",
        "        mutation_type = random.choices(mutations_type, weights=probability_mutate, k=1)[0]\n",
        "\n",
        "        # Shifting was selected, move whole 3 individuals points\n",
        "        if mutation_type == 'shift':\n",
        "            x_shift = int(random.randint(-50, 50)*mutation_rate)\n",
        "            y_shift = int(random.randint(-50, 50)*mutation_rate)\n",
        "            self.points = [(x + x_shift, y + y_shift) for x, y in self.points]\n",
        "\n",
        "        # Point mutation was selected, then pick one of the vertices to be shifted. \n",
        "        elif mutation_type == 'point':\n",
        "            index = random.choice(list(range(len(self.points))))\n",
        "            self.points[index] = (self.points[index][0] + int(random.randint(-50, 50)*mutation_rate),\n",
        "                                  self.points[index][1] + int(random.randint(-50, 50)*mutation_rate))\n",
        "\n",
        "        # Changing color was selected, add a random integer value to each color channel. \n",
        "        else:\n",
        "            self.color = tuple(\n",
        "                c + int(random.randint(-50, 50)*mutation_rate) for c in self.color\n",
        "            )\n",
        "\n",
        "            # Ensure color is within correct range\n",
        "            self.color = tuple(\n",
        "                min(max(c, 0), 255) for c in self.color\n",
        "            )"
      ]
    },
    {
      "cell_type": "markdown",
      "source": [
        "test case\n"
      ],
      "metadata": {
        "id": "Mvo8hNk8xp7r"
      }
    },
    {
      "cell_type": "code",
      "source": [
        "# TEST CASE - Triangle class \n",
        "triangle_test1 = Triangle(622,1000)\n",
        "triangle_test1.get_properties_triangle()"
      ],
      "metadata": {
        "id": "iBVW3IKYWEsb",
        "colab": {
          "base_uri": "https://localhost:8080/"
        },
        "outputId": "eebd13f6-8d12-4584-a055-92e55a1867ce"
      },
      "execution_count": null,
      "outputs": [
        {
          "output_type": "execute_result",
          "data": {
            "text/plain": [
              "([(307, 264), (317, 220), (278, 257)], (176, 88, 180, 191))"
            ]
          },
          "metadata": {},
          "execution_count": 27
        }
      ]
    },
    {
      "cell_type": "code",
      "source": [
        "triangle_test1.show_properties_triangle()"
      ],
      "metadata": {
        "colab": {
          "base_uri": "https://localhost:8080/",
          "height": 55
        },
        "id": "tynUqj9exhCW",
        "outputId": "8d078a05-cc96-461b-fd9f-aeaf2d2015e9"
      },
      "execution_count": null,
      "outputs": [
        {
          "output_type": "execute_result",
          "data": {
            "text/plain": [
              "'Triangle with points: (307,264), (317,220), (278,257) and color: 176, 88, 180, 191'"
            ],
            "application/vnd.google.colaboratory.intrinsic+json": {
              "type": "string"
            }
          },
          "metadata": {},
          "execution_count": 28
        }
      ]
    },
    {
      "cell_type": "markdown",
      "source": [
        "#  Circle class\n"
      ],
      "metadata": {
        "id": "uuNO6THXsxES"
      }
    },
    {
      "cell_type": "code",
      "source": [
        "import random\n",
        "\n",
        "class Circle:\n",
        "    def __init__(self, canvas_width, canvas_height):\n",
        "        # Initialize random center point of circle\n",
        "        random_x = random.randint(0, int(canvas_width))\n",
        "        random_y = random.randint(0, int(canvas_height))\n",
        "        \n",
        "        # Generate random radius value\n",
        "        rd_radius = random.randint(5, 9)\n",
        "\n",
        "        # Initialize circle points\n",
        "        self.points = [random_x, random_y, rd_radius]\n",
        "\n",
        "        # Initialize random color\n",
        "        self.color = (\n",
        "            random.randint(0, 255),\n",
        "            random.randint(0, 255),\n",
        "            random.randint(0, 255),\n",
        "            random.randint(0, 255)\n",
        "        )\n",
        "\n",
        "        # Store canvas size for internal use\n",
        "        self._canvas_width = canvas_width\n",
        "        self._canvas_height = canvas_height\n",
        "     \n",
        "    def __str__(self):\n",
        "        return f\"Circle: {self.points} in color {self.color}\"\n",
        "\n",
        "    def get_properties(self):\n",
        "        # Return center point, radius, and color of circle as a tuple\n",
        "        return tuple(self.points), self.color\n",
        "\n",
        "    def show_properties(self):\n",
        "        # Format circle properties as a user-friendly string\n",
        "        center = f\"Center: ({self.points[0]},{self.points[1]})\"\n",
        "        radius = f\"Radius: {self.points[2]}\"\n",
        "        color = f\"Color: {self.color}\"\n",
        "        return f\"{center}, {radius}, {color}\"\n",
        "\n",
        "    def mutate(self, mutation_rate=1.0):\n",
        "        # List all possible mutations\n",
        "        mutations_type = ['shift', 'radius', 'color']\n",
        "\n",
        "        # How likely to choose each type of mutation\n",
        "        probability_mutate = [30, 40, 30]  \n",
        "\n",
        "        # Choose a mutation type from \"mutations_type\" list\n",
        "        chosen_mutation = random.choices(mutations_type, weights=probability_mutate, k=1)[0]\n",
        "\n",
        "        # If shifting was selected, then shift its original generated center point\n",
        "        if chosen_mutation == 'shift':\n",
        "            x_shift = int(random.randint(-20, 20)*mutation_rate)\n",
        "            y_shift = int(random.randint(-20, 20)*mutation_rate)\n",
        "            self.points = [(x + x_shift, y + y_shift, r) for x, y, r in [self.points]][0]\n",
        "\n",
        "        # If radius mutation was selected, adjust radius \n",
        "        elif chosen_mutation == 'radius':\n",
        "            radius_adjust = int(random.randint(-20, 20)*mutation_rate)\n",
        "            self.points = [(x, y, r + radius_adjust) for x, y, r in [self.points]][0]\n",
        "\n",
        "        # If color mutation was selected, add a random integer value to each color channel\n",
        "        else:\n",
        "            self.color = tuple(\n",
        "                c + int(random.randint(-50, 50)*mutation_rate) for c in self.color\n",
        "            )\n",
        "\n",
        "            # Ensure color is within correct range\n",
        "            self.color = tuple(\n",
        "                min(max(c, 0), 255) for c in self.color\n",
        "            )"
      ],
      "metadata": {
        "id": "XGn_Ko18slzW"
      },
      "execution_count": null,
      "outputs": []
    },
    {
      "cell_type": "code",
      "source": [
        "circle_test1 = Circle(622,1000)\n",
        "circle_test1.show_properties()"
      ],
      "metadata": {
        "colab": {
          "base_uri": "https://localhost:8080/",
          "height": 36
        },
        "id": "HDw3X_hDufZU",
        "outputId": "740f5ea6-621c-4175-a9b2-eb2d6c439f30"
      },
      "execution_count": null,
      "outputs": [
        {
          "output_type": "execute_result",
          "data": {
            "text/plain": [
              "'Center: (68,946), Radius: 5, Color: (125, 84, 163, 255)'"
            ],
            "application/vnd.google.colaboratory.intrinsic+json": {
              "type": "string"
            }
          },
          "metadata": {},
          "execution_count": 30
        }
      ]
    },
    {
      "cell_type": "code",
      "source": [
        "circle_test1.get_properties()"
      ],
      "metadata": {
        "id": "TILJmiyqx0ci",
        "outputId": "dc2a8d15-8f27-4a24-9112-dcc6edfca23a",
        "colab": {
          "base_uri": "https://localhost:8080/"
        }
      },
      "execution_count": null,
      "outputs": [
        {
          "output_type": "execute_result",
          "data": {
            "text/plain": [
              "((68, 946, 5), (125, 84, 163, 255))"
            ]
          },
          "metadata": {},
          "execution_count": 31
        }
      ]
    },
    {
      "cell_type": "markdown",
      "source": [
        "# Paint object"
      ],
      "metadata": {
        "id": "nRRl_QymzFds"
      }
    },
    {
      "cell_type": "code",
      "source": [
        "from PIL import Image, ImageDraw\n",
        "import io\n",
        "import numpy as np\n",
        "\n",
        "\n",
        "class Paint():\n",
        "  def __init__(self,background_canvas,canvas_size,num_tri,num_cir,input_image):\n",
        "\n",
        "    self.generated_image = None # canvas to put shape on \n",
        "    self.input_image = input_image\n",
        "    self.list_triangles = [] # generates a list of triangles and their properties, and appends them\n",
        "    self.list_circles  = []\n",
        "    self.fitness_score = None\n",
        "\n",
        "    self.generate_canvas() #  creates a paint once an instance is created\n",
        "     \n",
        "  def __generate_triangles (self): # generate multiple triangle objects and append to a list \n",
        "    for i in range(num_tri):\n",
        "      newTriangle = Triangle(canvas_size[0],canvas_size[1])\n",
        "      self.list_triangles.append(newTriangle)\n",
        "\n",
        "  def __generate_circle (self): # generate multiple triangle objects and append to a list \n",
        "    for i in range(num_cir):\n",
        "      newCircle = Circle(canvas_size[0],canvas_size[1])\n",
        "      self.list_circles.append(newCircle)\n",
        "\n",
        "  def __draw_triangle (self,triangle_object):  #  takes a triangle object as input and draws it on the canvas.\n",
        "    triangle_point1 = triangle_object.triangle_info()[0]\n",
        "    triangle_point2 = triangle_object.triangle_info()[1]\n",
        "    triangle_point3 = triangle_object.triangle_info()[2]\n",
        "    rgb_list = (triangle_object.triangle_info()[3], triangle_object.triangle_info()[4], triangle_object.triangle_info()[5], triangle_object.triangle_info()[6])\n",
        "    self.draw.polygon([triangle_point1, triangle_point2, triangle_point3], fill=rgb_list)\n",
        "  \n",
        "    \n",
        "  def __draw_circle(self, circle_object): # draw single circle onto canvas\n",
        "    circle_x  = circle_object.info_of_circle()[0]\n",
        "    circle_y = circle_object.info_of_circle()[1]\n",
        "    radius = circle_object.info_of_circle()[2]\n",
        "    rgb_list = (circle_object.info_of_circle()[3], circle_object.info_of_circle()[4], circle_object.info_of_circle()[5], circle_object.info_of_circle()[6])\n",
        "    self.draw.ellipse((circle_x - radius, circle_y - radius, circle_x + radius, circle_y + radius), fill=rgb_list)\n",
        "\n",
        "  def generate_canvas(self): # add shapes to canvas \n",
        "\n",
        "    self.__generate_triangles() # to generate the shapes and properties,\n",
        "    self.__generate_circle()\n",
        "\n",
        "    canvas = Image.new('RGB',canvas_size, background_canvas)\n",
        "    self.draw = ImageDraw.Draw(canvas)  \n",
        "\n",
        "    for i in range(num_tri): # draw every multiple triangles/circles\n",
        "      self.__draw_triangle(self.list_triangles[i])\n",
        "    for j in range(num_cir): \n",
        "      self.__draw_circle(self.list_circles[j])\n",
        "    self.generated_image = canvas  \n",
        "\n",
        "    self.fitness_evaluation() # Calculate fitness \n",
        "    return self.generated_image\n",
        "\n",
        "  def display_image(self): # show canvas in jpeg \n",
        "    if self.generated_image is not None:\n",
        "        self.generated_image.show()\n",
        "    else:\n",
        "        print(\"No image has been generated yet.\")\n",
        "\n",
        "  def show_properties(self):\n",
        "    triangle_props = [triangle.triangle_info() for triangle in self.list_triangles]\n",
        "    circle_props = [circle.info_of_circle() for circle in self.list_circles]\n",
        "    return triangle_props, circle_props, self.fitness_score\n",
        "\n",
        "  def fitness_evaluation(self):\n",
        "      GeneratedImg_array = np.array(self.generated_image)      # Convert the generated image and target image to numpy arrays\n",
        "      InputImg_array = np.array(self.input_image)\n",
        "      \n",
        "      diff_arr = np.square(np.subtract(GeneratedImg_array, InputImg_array))       # Calculate the pixel-wise differences and square them\n",
        "\n",
        "      mse = np.mean(diff_arr)      # Calculate the mean of the squared differences\n",
        "\n",
        "      max_mse = np.sum(np.square(InputImg_array))/np.prod(InputImg_array.shape) # Normalize the MSE\n",
        "      normalized_mse = mse/max_mse\n",
        "\n",
        "      self.fitness_score = normalized_mse       # Set the fitness score attribute of the Paint object to the normalized MSE\n",
        "  \n",
        "  def mutate_triangle(self,mutation_prop ,mutation_rate=1.0): # mutate multiple triangles\n",
        "      # represents the proportion of triangles to mutate.\n",
        "      #  A higher mutation rate means a greater chance for significant changes to be made to the shape's properties\n",
        "      \n",
        "      num_mutations = round(mutation_prop * len(self.list_triangles)) # proportions of triangle to mutatet\n",
        "      index = list(range(len(self.list_triangles))) # index represent each triangle\n",
        "      random.shuffle(index) # shuffle each triangle, take the first few m triangle, and mutate them \n",
        "\n",
        "      for i in range(num_mutations):       # iterate through 1 to num_mutations of triangles on the shuffled\n",
        "        self.list_triangles[index[i]].mutate(mutation_rate)\n",
        "\n",
        "  def mutate_circle(self, mutation_prop, mutation_rate=1.0):  # mutate multiple triangles >>>> # represents the proportion of circles to mutate.\n",
        "\n",
        "        num_mutations = round(mutation_prop * len(self.list_circles)) # proportion of circles to mutate\n",
        "        index = list(range(len(self.list_circles))) # index represents each circle\n",
        "        random.shuffle(index) # shuffle each circle, take the first few m circles, and mutate them\n",
        "\n",
        "        for i in range(num_mutations): # iterate through 1 to num_mutations of circles on the shuffled list\n",
        "            self.list_circles[index[i]].mutate(mutation_rate)\n",
        "\n",
        "  def mutate_allShapes(self,mutate_rate,mprop_triangle,mprop_circle):\n",
        "    self.mutate_triangle(mutation_prop = mprop_triangle,mutation_rate= mutate_rate)\n",
        "    self.mutate_circle(mutation_prop=mprop_circle, mutation_rate=mutate_rate)\n",
        "  \n",
        "  # GET ---------------------------------\n",
        "  def return_canvasSize(self):\n",
        "      return canvas_size\n",
        "  \n",
        "  def get_numshapes(self):\n",
        "    return len(self.list_triangles), len(self.list_circles)\n",
        "\n",
        "  def get_targetImage(self):\n",
        "    return self.input_image\n",
        "\n",
        "  # SET  ---------------------------------\n",
        "  def update_properties(self,NewT_property,NewC_property):\n",
        "    self.list_triangles = NewT_property\n",
        "    self.list_circles  = NewC_property\n",
        "    # return NewT_property\n",
        "  \n",
        "  def show_update_property(self):\n",
        "    return self.list_triangles, self.list_circles\n",
        "  \n",
        "  def get_all_properties(self):\n",
        "    return   self.fitness_score , self.list_triangles , self.list_circles     "
      ],
      "metadata": {
        "id": "E5KvwCf6LrS2"
      },
      "execution_count": null,
      "outputs": []
    },
    {
      "cell_type": "code",
      "source": [
        "# test case \n",
        "background_canvas, canvas_size ,num_tri,num_cir = (255,255,255), (628,1000), 5, 4 # 3 triangles, 2 circles\n",
        "target_image = Image.open(\"paris tower.jpeg\") # \n",
        "paintObject1 = Paint(background_canvas,canvas_size,num_tri,num_cir,target_image)"
      ],
      "metadata": {
        "id": "J2hPgMibNCVq",
        "colab": {
          "base_uri": "https://localhost:8080/",
          "height": 417
        },
        "outputId": "c7ebc6c0-c81d-4ec6-dbc5-d8e4b6df8aec"
      },
      "execution_count": null,
      "outputs": [
        {
          "output_type": "error",
          "ename": "AttributeError",
          "evalue": "ignored",
          "traceback": [
            "\u001b[0;31m---------------------------------------------------------------------------\u001b[0m",
            "\u001b[0;31mAttributeError\u001b[0m                            Traceback (most recent call last)",
            "\u001b[0;32m<ipython-input-33-a2fed57c23d4>\u001b[0m in \u001b[0;36m<cell line: 4>\u001b[0;34m()\u001b[0m\n\u001b[1;32m      2\u001b[0m \u001b[0mbackground_canvas\u001b[0m\u001b[0;34m,\u001b[0m \u001b[0mcanvas_size\u001b[0m \u001b[0;34m,\u001b[0m\u001b[0mnum_tri\u001b[0m\u001b[0;34m,\u001b[0m\u001b[0mnum_cir\u001b[0m \u001b[0;34m=\u001b[0m \u001b[0;34m(\u001b[0m\u001b[0;36m255\u001b[0m\u001b[0;34m,\u001b[0m\u001b[0;36m255\u001b[0m\u001b[0;34m,\u001b[0m\u001b[0;36m255\u001b[0m\u001b[0;34m)\u001b[0m\u001b[0;34m,\u001b[0m \u001b[0;34m(\u001b[0m\u001b[0;36m628\u001b[0m\u001b[0;34m,\u001b[0m\u001b[0;36m1000\u001b[0m\u001b[0;34m)\u001b[0m\u001b[0;34m,\u001b[0m \u001b[0;36m5\u001b[0m\u001b[0;34m,\u001b[0m \u001b[0;36m4\u001b[0m \u001b[0;31m# 3 triangles, 2 circles\u001b[0m\u001b[0;34m\u001b[0m\u001b[0;34m\u001b[0m\u001b[0m\n\u001b[1;32m      3\u001b[0m \u001b[0mtarget_image\u001b[0m \u001b[0;34m=\u001b[0m \u001b[0mImage\u001b[0m\u001b[0;34m.\u001b[0m\u001b[0mopen\u001b[0m\u001b[0;34m(\u001b[0m\u001b[0;34m\"paris tower.jpeg\"\u001b[0m\u001b[0;34m)\u001b[0m \u001b[0;31m#\u001b[0m\u001b[0;34m\u001b[0m\u001b[0;34m\u001b[0m\u001b[0m\n\u001b[0;32m----> 4\u001b[0;31m \u001b[0mpaintObject1\u001b[0m \u001b[0;34m=\u001b[0m \u001b[0mPaint\u001b[0m\u001b[0;34m(\u001b[0m\u001b[0mbackground_canvas\u001b[0m\u001b[0;34m,\u001b[0m\u001b[0mcanvas_size\u001b[0m\u001b[0;34m,\u001b[0m\u001b[0mnum_tri\u001b[0m\u001b[0;34m,\u001b[0m\u001b[0mnum_cir\u001b[0m\u001b[0;34m,\u001b[0m\u001b[0mtarget_image\u001b[0m\u001b[0;34m)\u001b[0m\u001b[0;34m\u001b[0m\u001b[0;34m\u001b[0m\u001b[0m\n\u001b[0m",
            "\u001b[0;32m<ipython-input-32-8fc0b670b9fe>\u001b[0m in \u001b[0;36m__init__\u001b[0;34m(self, background_canvas, canvas_size, num_tri, num_cir, input_image)\u001b[0m\n\u001b[1;32m     13\u001b[0m     \u001b[0mself\u001b[0m\u001b[0;34m.\u001b[0m\u001b[0mfitness_score\u001b[0m \u001b[0;34m=\u001b[0m \u001b[0;32mNone\u001b[0m\u001b[0;34m\u001b[0m\u001b[0;34m\u001b[0m\u001b[0m\n\u001b[1;32m     14\u001b[0m \u001b[0;34m\u001b[0m\u001b[0m\n\u001b[0;32m---> 15\u001b[0;31m     \u001b[0mself\u001b[0m\u001b[0;34m.\u001b[0m\u001b[0mgenerate_canvas\u001b[0m\u001b[0;34m(\u001b[0m\u001b[0;34m)\u001b[0m \u001b[0;31m#  creates a paint once an instance is created\u001b[0m\u001b[0;34m\u001b[0m\u001b[0;34m\u001b[0m\u001b[0m\n\u001b[0m\u001b[1;32m     16\u001b[0m \u001b[0;34m\u001b[0m\u001b[0m\n\u001b[1;32m     17\u001b[0m   \u001b[0;32mdef\u001b[0m \u001b[0m__generate_triangles\u001b[0m \u001b[0;34m(\u001b[0m\u001b[0mself\u001b[0m\u001b[0;34m)\u001b[0m\u001b[0;34m:\u001b[0m \u001b[0;31m# generate multiple triangle objects and append to a list\u001b[0m\u001b[0;34m\u001b[0m\u001b[0;34m\u001b[0m\u001b[0m\n",
            "\u001b[0;32m<ipython-input-32-8fc0b670b9fe>\u001b[0m in \u001b[0;36mgenerate_canvas\u001b[0;34m(self)\u001b[0m\n\u001b[1;32m     49\u001b[0m \u001b[0;34m\u001b[0m\u001b[0m\n\u001b[1;32m     50\u001b[0m     \u001b[0;32mfor\u001b[0m \u001b[0mi\u001b[0m \u001b[0;32min\u001b[0m \u001b[0mrange\u001b[0m\u001b[0;34m(\u001b[0m\u001b[0mnum_tri\u001b[0m\u001b[0;34m)\u001b[0m\u001b[0;34m:\u001b[0m \u001b[0;31m# draw every multiple triangles/circles\u001b[0m\u001b[0;34m\u001b[0m\u001b[0;34m\u001b[0m\u001b[0m\n\u001b[0;32m---> 51\u001b[0;31m       \u001b[0mself\u001b[0m\u001b[0;34m.\u001b[0m\u001b[0m__draw_triangle\u001b[0m\u001b[0;34m(\u001b[0m\u001b[0mself\u001b[0m\u001b[0;34m.\u001b[0m\u001b[0mlist_triangles\u001b[0m\u001b[0;34m[\u001b[0m\u001b[0mi\u001b[0m\u001b[0;34m]\u001b[0m\u001b[0;34m)\u001b[0m\u001b[0;34m\u001b[0m\u001b[0;34m\u001b[0m\u001b[0m\n\u001b[0m\u001b[1;32m     52\u001b[0m     \u001b[0;32mfor\u001b[0m \u001b[0mj\u001b[0m \u001b[0;32min\u001b[0m \u001b[0mrange\u001b[0m\u001b[0;34m(\u001b[0m\u001b[0mnum_cir\u001b[0m\u001b[0;34m)\u001b[0m\u001b[0;34m:\u001b[0m\u001b[0;34m\u001b[0m\u001b[0;34m\u001b[0m\u001b[0m\n\u001b[1;32m     53\u001b[0m       \u001b[0mself\u001b[0m\u001b[0;34m.\u001b[0m\u001b[0m__draw_circle\u001b[0m\u001b[0;34m(\u001b[0m\u001b[0mself\u001b[0m\u001b[0;34m.\u001b[0m\u001b[0mlist_circles\u001b[0m\u001b[0;34m[\u001b[0m\u001b[0mj\u001b[0m\u001b[0;34m]\u001b[0m\u001b[0;34m)\u001b[0m\u001b[0;34m\u001b[0m\u001b[0;34m\u001b[0m\u001b[0m\n",
            "\u001b[0;32m<ipython-input-32-8fc0b670b9fe>\u001b[0m in \u001b[0;36m__draw_triangle\u001b[0;34m(self, triangle_object)\u001b[0m\n\u001b[1;32m     26\u001b[0m \u001b[0;34m\u001b[0m\u001b[0m\n\u001b[1;32m     27\u001b[0m   \u001b[0;32mdef\u001b[0m \u001b[0m__draw_triangle\u001b[0m \u001b[0;34m(\u001b[0m\u001b[0mself\u001b[0m\u001b[0;34m,\u001b[0m\u001b[0mtriangle_object\u001b[0m\u001b[0;34m)\u001b[0m\u001b[0;34m:\u001b[0m  \u001b[0;31m#  takes a triangle object as input and draws it on the canvas.\u001b[0m\u001b[0;34m\u001b[0m\u001b[0;34m\u001b[0m\u001b[0m\n\u001b[0;32m---> 28\u001b[0;31m     \u001b[0mtriangle_point1\u001b[0m \u001b[0;34m=\u001b[0m \u001b[0mtriangle_object\u001b[0m\u001b[0;34m.\u001b[0m\u001b[0mtriangle_info\u001b[0m\u001b[0;34m(\u001b[0m\u001b[0;34m)\u001b[0m\u001b[0;34m[\u001b[0m\u001b[0;36m0\u001b[0m\u001b[0;34m]\u001b[0m\u001b[0;34m\u001b[0m\u001b[0;34m\u001b[0m\u001b[0m\n\u001b[0m\u001b[1;32m     29\u001b[0m     \u001b[0mtriangle_point2\u001b[0m \u001b[0;34m=\u001b[0m \u001b[0mtriangle_object\u001b[0m\u001b[0;34m.\u001b[0m\u001b[0mtriangle_info\u001b[0m\u001b[0;34m(\u001b[0m\u001b[0;34m)\u001b[0m\u001b[0;34m[\u001b[0m\u001b[0;36m1\u001b[0m\u001b[0;34m]\u001b[0m\u001b[0;34m\u001b[0m\u001b[0;34m\u001b[0m\u001b[0m\n\u001b[1;32m     30\u001b[0m     \u001b[0mtriangle_point3\u001b[0m \u001b[0;34m=\u001b[0m \u001b[0mtriangle_object\u001b[0m\u001b[0;34m.\u001b[0m\u001b[0mtriangle_info\u001b[0m\u001b[0;34m(\u001b[0m\u001b[0;34m)\u001b[0m\u001b[0;34m[\u001b[0m\u001b[0;36m2\u001b[0m\u001b[0;34m]\u001b[0m\u001b[0;34m\u001b[0m\u001b[0;34m\u001b[0m\u001b[0m\n",
            "\u001b[0;31mAttributeError\u001b[0m: 'Triangle' object has no attribute 'triangle_info'"
          ]
        }
      ]
    },
    {
      "cell_type": "code",
      "source": [
        "paintObject1.show_properties()"
      ],
      "metadata": {
        "id": "4mOfMa3Xehvf"
      },
      "execution_count": null,
      "outputs": []
    },
    {
      "cell_type": "markdown",
      "source": [
        "Mutate circles in one painting"
      ],
      "metadata": {
        "id": "EzEV__FA73Wg"
      }
    },
    {
      "cell_type": "code",
      "source": [
        "paintObject1.mutate_circle(0.5)"
      ],
      "metadata": {
        "id": "vve2VntY3KX3"
      },
      "execution_count": null,
      "outputs": []
    },
    {
      "cell_type": "markdown",
      "source": [
        "# Fitness evaluation\n",
        "- shape array (1000, 628, 3)\n",
        "- MSE between 0 and 1. May have rounding error out of these bounds\n",
        "- 0 indicates closer to target image"
      ],
      "metadata": {
        "id": "uwlr_rd7XHRM"
      }
    },
    {
      "cell_type": "markdown",
      "source": [
        "# Initialize population\n",
        "  \n",
        "\n",
        "*   Creates multiple paintings\n",
        "\n",
        "\n",
        "\n"
      ],
      "metadata": {
        "id": "NoqWVvgHIm2K"
      }
    },
    {
      "cell_type": "code",
      "source": [
        "# Define parameters for Paint objects\n",
        "background_canvas, canvas_size, num_tri, num_cir = (255, 255, 255), (628, 1000), 3, 2\n",
        "target_image = Image.open(\"paris tower.jpeg\")\n",
        "\n",
        "# Generate a list of Paint objects\n",
        "num_paint_objects = 5\n",
        "paint_objects_list = []\n",
        "for i in range(num_paint_objects):\n",
        "    paint_object = Paint(background_canvas, canvas_size, num_tri, num_cir, target_image)\n",
        "    paint_objects_list.append(paint_object)\n",
        "\n",
        "# Print the list of Paint objects and properties of a single Paint object\n",
        "print(paint_objects_list)\n",
        "for i in range(len(paint_objects_list)):\n",
        "  print(paint_objects_list[i].show_properties())"
      ],
      "metadata": {
        "id": "tvDPKeuS0cbA"
      },
      "execution_count": null,
      "outputs": []
    },
    {
      "cell_type": "code",
      "source": [
        "def initialize_population(background_canvas, canvas_size, num_tri, num_cir, target_image, population_size,paint_obj=None):\n",
        "    \"\"\"\n",
        "    Initializes a population of Paint objects with the given parameters and returns a list of Paint objects.\n",
        "    \n",
        "    Parameters:\n",
        "    - background_canvas: a tuple of three integers representing the RGB color of the background canvas\n",
        "    - canvas_size: a tuple of two integers representing the size of the canvas\n",
        "    - num_tri: an integer representing the number of triangles to generate in each Paint object\n",
        "    - num_cir: an integer representing the number of circles to generate in each Paint object\n",
        "    - target_image: an Image object representing the target image to match\n",
        "    - population_size: an integer representing the number of Paint objects to generate in the population\n",
        "    \n",
        "    Returns:\n",
        "    - population: a list of Paint objects\n",
        "    \"\"\"\n",
        "    population = []\n",
        "    if paint_obj is not None:\n",
        "      for j in range(len(paint_obj)):\n",
        "        population.append(paint_obj[j])\n",
        "\n",
        "    for i in range(population_size):\n",
        "        paint_object = Paint(background_canvas, canvas_size, num_tri, num_cir, target_image)\n",
        "        population.append(paint_object)\n",
        "    \n",
        "    return population\n",
        "\n",
        "\n",
        "# TEST CASE  ==============================\n",
        "background_canvas, canvas_size, num_tri, num_cir = (255, 255, 255), (628, 1000), 3, 2\n",
        "target_image = Image.open(\"paris tower.jpeg\")\n",
        "population_size = 5\n",
        "\n",
        "population = initialize_population(background_canvas, canvas_size, num_tri, num_cir, target_image, population_size)\n",
        "print(population)\n",
        "\n",
        "# \n",
        " \n",
        "for i in range(len(population)):\n",
        "  print(population[i].show_properties())"
      ],
      "metadata": {
        "id": "Dnsb4jtso-JE"
      },
      "execution_count": null,
      "outputs": []
    },
    {
      "cell_type": "markdown",
      "source": [
        "TEST CASE : after iteration occured\n",
        "\n"
      ],
      "metadata": {
        "id": "Z9XHJTayU1r1"
      }
    },
    {
      "cell_type": "code",
      "source": [
        "selected_images # "
      ],
      "metadata": {
        "id": "OFNtFhl_VSkA"
      },
      "execution_count": null,
      "outputs": []
    },
    {
      "cell_type": "code",
      "source": [
        "selected_images # 2 images \n",
        "background_canvas, canvas_size, num_tri, num_cir = (255, 255, 255), (628, 1000), 3, 2\n",
        "target_image = Image.open(\"paris tower.jpeg\")\n",
        "population_size = 5\n",
        "\n",
        "initialize_population(background_canvas, canvas_size, num_tri, num_cir,target_image,population_size,selected_images)"
      ],
      "metadata": {
        "id": "wQ9AgEIjUrsI"
      },
      "execution_count": null,
      "outputs": []
    },
    {
      "cell_type": "markdown",
      "source": [
        "# Tournament Selection\n",
        "- take paintings created in intialization.\n",
        "- take a subset from initialization population \n",
        "- make each paintings compete\n",
        "- best one will be selected from each tournament\n",
        "\n"
      ],
      "metadata": {
        "id": "3uhxjF0-qHrY"
      }
    },
    {
      "cell_type": "code",
      "source": [
        "import random\n",
        "\n",
        "def tournament_selection(subset_size, tournament_size, paint_objects_list):\n",
        "    selected_images = []\n",
        "\n",
        "    for i in range(tournament_size):\n",
        "        subset = random.sample(paint_objects_list, subset_size)\n",
        "        best_score = min(subset, key=lambda x: x.show_properties()[2]) # find the best score in the subset based on fitness\n",
        "        selected_images.append(best_score) # add the best score to the selected images list\n",
        "\n",
        "    return selected_images"
      ],
      "metadata": {
        "id": "6ObqtHtWK83j"
      },
      "execution_count": null,
      "outputs": []
    },
    {
      "cell_type": "markdown",
      "source": [
        "Test case: tournament"
      ],
      "metadata": {
        "id": "qlwwFwfg7GUZ"
      }
    },
    {
      "cell_type": "code",
      "source": [
        "# test case \n",
        "subset_size = 4\n",
        "tournament_size = 2\n",
        "selected_images = tournament_selection(subset_size,tournament_size,paint_objects_list)\n",
        "for image in selected_images:\n",
        "    print(image.show_properties())\n",
        "print(len(selected_images),\" is size of selected image from tournament\")"
      ],
      "metadata": {
        "id": "RacOaoho_sgZ"
      },
      "execution_count": null,
      "outputs": []
    },
    {
      "cell_type": "markdown",
      "source": [
        "# Mutation\n",
        "- mutation_prop : proportion of paintings to mutate"
      ],
      "metadata": {
        "id": "_N9bG2mpMOfU"
      }
    },
    {
      "cell_type": "code",
      "source": [
        "def mutate_multiple_paintings(selected_images, mprop_paints=0.5, mutation_rate=2.0, mprop_triangle=0.5, mprop_circle=0.5):\n",
        "    \"\"\"\n",
        "    This function takes in a list of Paint objects, and mutates a proportion of them using the specified mutation rate and\n",
        "    mutation proportion for triangles and circles. It returns the mutated list of Paint objects.\n",
        "    \n",
        "    Parameters:\n",
        "    - selected_images: a list of Paint objects to be mutated\n",
        "    - mprop_paints: a float between 0 and 1 representing the proportion of paintings to mutate (default is 0.5)\n",
        "    - mutation_rate: a float representing the rate at which mutations occur (default is 2.0)\n",
        "    - mprop_triangle: a float between 0 and 1 representing the proportion of triangles to mutate (default is 0.5)\n",
        "    - mprop_circle: a float between 0 and 1 representing the proportion of circles to mutate (default is 0.5)\n",
        "    \n",
        "    Returns:\n",
        "    - mutated_images: a list of Paint objects with a proportion of them mutated\n",
        "    \"\"\"\n",
        "    num_mutations = round(mprop_paints * len(selected_images)) # number of paintings to mutate\n",
        "    indices = list(range(len(selected_images))) # indices of the paintings in the list\n",
        "    random.shuffle(indices) # shuffle the indices to select random paintings to mutate\n",
        "\n",
        "    for i in range(num_mutations): # iterate through each paintings that needs mutation\n",
        "        index = indices[i]\n",
        "        selected_images[index].mutate_allShapes(mutation_rate,mprop_triangle,mprop_circle)\n",
        "\n",
        "    # mutated_images = selected_images\n",
        "    return selected_images"
      ],
      "metadata": {
        "id": "l9J5bIdHNtCP"
      },
      "execution_count": null,
      "outputs": []
    },
    {
      "cell_type": "markdown",
      "source": [
        "show paintings selected from tournament \n",
        "\n",
        "selected_images"
      ],
      "metadata": {
        "id": "F79_IqW0A3i5"
      }
    },
    {
      "cell_type": "code",
      "source": [
        "# test case : mutate \n",
        "\n",
        "# show 2 images\n",
        "for image in selected_images:\n",
        "    print(image.show_properties())\n",
        "\n",
        "# run a mutate \n",
        "selected_images = mutate_multiple_paintings(selected_images)\n",
        "print()\n",
        "\n",
        "# recheck whether applied\n",
        "for image in selected_images:\n",
        "    print(image.show_properties())"
      ],
      "metadata": {
        "id": "ykSPmHqSAycI"
      },
      "execution_count": null,
      "outputs": []
    },
    {
      "cell_type": "code",
      "source": [
        "mutate_multiple_paintings(selected_images)"
      ],
      "metadata": {
        "id": "megId3XiUDPe"
      },
      "execution_count": null,
      "outputs": []
    },
    {
      "cell_type": "code",
      "source": [
        "selected_images[0].show_properties()"
      ],
      "metadata": {
        "id": "nIY8sOfOs246"
      },
      "execution_count": null,
      "outputs": []
    },
    {
      "cell_type": "code",
      "source": [
        "selected_images[1].show_properties()"
      ],
      "metadata": {
        "id": "xFyl4hM5uPEr"
      },
      "execution_count": null,
      "outputs": []
    },
    {
      "cell_type": "markdown",
      "source": [
        "# Crossover \n",
        "The objective of the crossover function is to combine the ` properties of the two best mutated parent images to produce an offspring image that inherits desirable traits from both parents.\n",
        "The function takes in two Paint objects as input, which represent the parent images.\n",
        "A random crossover point is set on the image, which determines the location where the two parent images will be split.\n",
        "The upper half of the image is taken from one parent, while the lower half is taken from the other parent.\n",
        "The two halves are then combined to create an offspring image.\n",
        "The offspring image inherits some of the desirable traits of both parents, while also introducing new variations due to the combination of traits.\n"
      ],
      "metadata": {
        "id": "urCwHgFFPXrh"
      }
    },
    {
      "cell_type": "code",
      "source": [
        "import numpy as np\n",
        "\n",
        "def crossover(parent1, parent2):\n",
        "\n",
        "  # existing properties from parent 1 \n",
        "  parent1_triangle = parent1.show_properties()[0] # take triangle property\n",
        "  parent1_circle  = parent1.show_properties()[1]    # take circle property\n",
        "  # existing properties from parent 2 \n",
        "  parent2_triangle = parent2.show_properties()[0] # take triangle property\n",
        "  parent2_circle  = parent2.show_properties()[1]    # take circle property\n",
        "  # new properties from combined mix of parent 1 and parent 2: offspring\n",
        "  mixed_property = []\n",
        "  \n",
        "  mixed_triangle  = []\n",
        "  for i in range(len(parent1_triangle)): \n",
        "    random_num = random.uniform(0, 1)  # generates a random float between 0 and 1\n",
        "    if random_num < 0.5 : \n",
        "      mixed_triangle.append(parent1_triangle[i])\n",
        "    else: \n",
        "      mixed_triangle.append(parent2_triangle[i])\n",
        "\n",
        "  mixed_circle  = []\n",
        "  for i in range(len(parent1_circle)): \n",
        "    random_num = random.uniform(0, 1)  # generates a random float between 0 and 1\n",
        "    if random_num < 0.5 : \n",
        "      mixed_circle.append(parent1_circle[i])\n",
        "    else: \n",
        "      mixed_circle.append(parent2_circle[i])\n",
        "\n",
        "  mixed_property.append(mixed_triangle)\n",
        "  mixed_property.append(mixed_circle)\n",
        "\n",
        "  # print(mixed_property)\n",
        "   # print()\n",
        "\n",
        "  #  Create a new Paint object with the same canvas size as the parent images\n",
        "  offspring = Paint((255,255,255), parent1.return_canvasSize(), parent1.get_numshapes()[0], parent1.get_numshapes()[1], parent1.get_targetImage())\n",
        "\n",
        "  # p rint(\"this is \",offspring.show_properties())\n",
        "  # update painting on new paint object\n",
        "  offspring.update_properties(mixed_property[0],mixed_property[1])\n",
        "\n",
        "  return offspring"
      ],
      "metadata": {
        "id": "IdQ5Hihm_GTA"
      },
      "execution_count": null,
      "outputs": []
    },
    {
      "cell_type": "markdown",
      "source": [
        "TEST CASE CROSSOVER\n"
      ],
      "metadata": {
        "id": "d49QGs-OsI0i"
      }
    },
    {
      "cell_type": "code",
      "source": [
        "offspring = crossover(selected_images[0],selected_images[1])\n",
        "offspring"
      ],
      "metadata": {
        "id": "UNIBMm-IsMt0"
      },
      "execution_count": null,
      "outputs": []
    },
    {
      "cell_type": "code",
      "source": [
        "selected_images[0].get_numshapes()"
      ],
      "metadata": {
        "id": "hu6PoZzh2f63"
      },
      "execution_count": null,
      "outputs": []
    },
    {
      "cell_type": "markdown",
      "source": [
        "# Generate the  best paint \n",
        "- print intermediate result \n",
        "- fix if error \n",
        "- repeatation runs fine\n",
        "\n",
        "do one by one"
      ],
      "metadata": {
        "id": "IJg5hUV3m6Mu"
      }
    },
    {
      "cell_type": "code",
      "source": [
        "def generate_art(initialization_parameter,tournament_parameter,mutation_parameter,crossover_parameter,num_itr):\n",
        " \n",
        "    for j in range(num_itr): \n",
        "      if j == 0 :\n",
        "        prev_paint = None\n",
        "    \n",
        "      # generates multiple paint object \n",
        "      population = initialize_population(initialization_parameter[0], initialization_parameter[1],initialization_parameter[2],initialization_parameter[3],initialization_parameter[4],initialization_parameter[5],prev_paint)\n",
        "      print()\n",
        "      print(\" iteration \",str(j))\n",
        "      print()\n",
        "\n",
        "    \n",
        "      # OUTPUT OF THIS PHASE INITIALIZATION \n",
        "      print(\"==phase intialization== \", \"number of paint object are \", len(population) )\n",
        "      \n",
        "      # for i in range(len(population)):\n",
        "      #   print(population[i].get_all_properties())\n",
        "      #   # print(\"fitness score is : \",population[i].get_all_properties()[2],\" triangle properties are : \", population[i].show_properties()[0],\"circle properties are : \",population[i].show_properties()[1]) \n",
        "      # print()\n",
        "        \n",
        "      print(population)\n",
        "\n",
        "\n",
        "      # Iterate through the specified number of generations, selecting the top paintings  \n",
        "      selected_images = tournament_selection(tournament_parameter[0],tournament_parameter[1],population)\n",
        "\n",
        "      print(selected_images)\n",
        "\n",
        "\n",
        "      # OUTPUT : TOURNAMENT SELECTION \n",
        "      print(\"==phase tournament selection== \", \"number of paint object are \", len(selected_images) )\n",
        "      # for i in range(len(selected_images)):\n",
        "      #   print(selected_images[i].get_all_properties())\n",
        "      #   # print(\"fitness score is : \",selected_images[i].show_properties()[2],\" triangle properties are : \", selected_images[i].show_properties()[0],\"circle properties are : \",selected_images[i].show_properties()[1]) \n",
        "      # print()\n",
        "\n",
        "\n",
        "      #  mutation on shapes \n",
        "      mutated_images = mutate_multiple_paintings(selected_images,mutation_parameter[0],mutation_parameter[1],mutation_parameter[2],mutation_parameter[3])\n",
        "      #   OUTPUT : MUTATION \n",
        "      print(\"==phase mutation == \", \"number of paint object are \", len(mutated_images) )\n",
        "      # for i in range(len(mutated_images)):\n",
        "      #   print(mutated_images[i].get_all_properties())\n",
        "      #   # print(\"fitness score is : \",mutated_images[i].show_properties()[2],\" triangle properties are : \", mutated_images[i].show_properties()[0],\"circle properties are : \",mutated_images[i].show_properties()[1]) \n",
        "      # print(mutated_images)\n",
        "      # print()\n",
        "\n",
        "\n",
        "\n",
        "      num_paints_mutated = len(mutated_images) - 1\n",
        "      selected_crossover = []\n",
        "\n",
        "      # crossover 2 parents for c number of trials\n",
        "      for i in range(crossover_parameter[0]): \n",
        "        #  randomly select 2 parents from mutated paints list \n",
        "        parent1_index  = random.randint(0, num_paints_mutated)\n",
        "        parent2_index  = random.randint(0, num_paints_mutated)\n",
        "        \n",
        "        offspring = crossover(mutated_images[parent1_index],mutated_images[parent2_index])\n",
        "        selected_crossover.append(offspring)\n",
        "\n",
        "      # print(\"==phase crossover==\", \"number of paint object are \", len(selected_crossover) )\n",
        "      # for i in range(len(selected_crossover)):\n",
        "      #   print(selected_crossover[i].get_all_properties())\n",
        "\n",
        "      prev_paint = selected_crossover\n",
        "\n",
        "    # repeat process\n",
        "    # return selected_crossover"
      ],
      "metadata": {
        "id": "K-1TpEDVm_0B"
      },
      "execution_count": null,
      "outputs": []
    },
    {
      "cell_type": "markdown",
      "source": [
        "TEST CASE : FINAL OUTPUT "
      ],
      "metadata": {
        "id": "sMnQF5pI0Dpz"
      }
    },
    {
      "cell_type": "code",
      "source": [
        "from PIL import Image\n",
        "\n",
        "# listing all parameters to pass in generate art function \n",
        "\n",
        "# background_canvas, canvas_size, num_tri, num_cir, target_image, population_size(number of paintings)\n",
        "initialization_parameter = [ (255, 255, 255), (628, 1000), 100,100, Image.open(\"paris tower.jpeg\"),10] \n",
        "\n",
        "# subset_size, tournament_size \n",
        "tournament_parameter = [2,3] # number of subset images to pick from initilization,  number of tournament to iterate\n",
        "\n",
        "# selected_images, mprop_paints=0.5, mutation_rate=2.0, mprop_triangle=0.5, mprop_circle=0.5):\n",
        "mutation_parameter = [0.5,1.0,0.5,0.5] \n",
        "\n",
        "# number of crossover trials to do  \n",
        "crossover_parameter = [2]\n",
        "num_itr = 2 \n",
        "# run a iteration \n",
        "generate_art(initialization_parameter,tournament_parameter,mutation_parameter,crossover_parameter,num_itr)"
      ],
      "metadata": {
        "id": "waM9dGC1nVds"
      },
      "execution_count": null,
      "outputs": []
    }
  ]
}